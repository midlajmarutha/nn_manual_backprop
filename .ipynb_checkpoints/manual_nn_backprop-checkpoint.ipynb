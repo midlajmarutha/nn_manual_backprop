{
 "cells": [
  {
   "cell_type": "markdown",
   "id": "630c2c40-bdbf-4637-8738-1dec41e68111",
   "metadata": {},
   "source": [
    "# Implimentaion of manual backprop in neural nets"
   ]
  },
  {
   "cell_type": "markdown",
   "id": "9e17117b-84e6-41f1-841c-2ec60b766748",
   "metadata": {},
   "source": [
    "## 1. Derivatives"
   ]
  },
  {
   "cell_type": "markdown",
   "id": "bf45d73f-d309-4dba-a973-8e49fa7e8e2b",
   "metadata": {},
   "source": [
    "### 1.1  Scalar case"
   ]
  },
  {
   "cell_type": "markdown",
   "id": "7e1985dc-a67f-434a-9fc9-01d7ffc64c09",
   "metadata": {},
   "source": [
    "Given a function f : R → R, the derivative of f at a point x ∈ R is defined as: \\\n",
    "![scalar derivativ formula](resources/scalar-derivative-formula.png)"
   ]
  },
  {
   "cell_type": "code",
   "execution_count": 1,
   "id": "4eb4fe32-bb07-4e79-92bf-595a9b1ea416",
   "metadata": {},
   "outputs": [
    {
     "data": {
      "text/plain": [
       "12"
      ]
     },
     "execution_count": 1,
     "metadata": {},
     "output_type": "execute_result"
    }
   ],
   "source": [
    "f = lambda x: 3*x\n",
    "f(4)"
   ]
  },
  {
   "cell_type": "code",
   "execution_count": 2,
   "id": "1f059980-9cff-4138-9ae2-85da3bb4930d",
   "metadata": {},
   "outputs": [
    {
     "data": {
      "text/plain": [
       "3.0000000000001137"
      ]
     },
     "execution_count": 2,
     "metadata": {},
     "output_type": "execute_result"
    }
   ],
   "source": [
    "# derivative of the function 'f' by the given formula\n",
    "# taking h = 0.001\n",
    "\n",
    "(f(4+0.001) - f(4))/0.001"
   ]
  },
  {
   "cell_type": "markdown",
   "id": "0f1fbf73-84dd-4e3c-8748-47a02a2af725",
   "metadata": {},
   "source": [
    "### jacobian"
   ]
  },
  {
   "cell_type": "code",
   "execution_count": 3,
   "id": "cd103370-1a1c-42f9-9eae-6a6533c1afcb",
   "metadata": {},
   "outputs": [],
   "source": [
    "import numpy as np"
   ]
  },
  {
   "cell_type": "code",
   "execution_count": 4,
   "id": "31ecb452-c1cb-4c6c-89b8-6ded464e0287",
   "metadata": {},
   "outputs": [
    {
     "data": {
      "text/plain": [
       "array([0.94174308, 0.2207552 , 0.13450892, 0.63251016, 0.56993103])"
      ]
     },
     "execution_count": 4,
     "metadata": {},
     "output_type": "execute_result"
    }
   ],
   "source": [
    "X = np.random.rand(5)\n",
    "X"
   ]
  },
  {
   "cell_type": "code",
   "execution_count": 5,
   "id": "663a37fe-707f-4425-abea-f01e4dfbcc23",
   "metadata": {},
   "outputs": [
    {
     "data": {
      "text/plain": [
       "array([0.88688003, 0.04873286, 0.01809265, 0.4000691 , 0.32482138])"
      ]
     },
     "execution_count": 5,
     "metadata": {},
     "output_type": "execute_result"
    }
   ],
   "source": [
    "f = lambda x: x*x\n",
    "f(X)"
   ]
  },
  {
   "cell_type": "code",
   "execution_count": 6,
   "id": "b2f36fed-ad63-4dce-9ee1-551a42173603",
   "metadata": {},
   "outputs": [
    {
     "data": {
      "text/plain": [
       "(array([[0.53559417, 0.22255088, 0.63812681, 0.47331755, 0.80679868],\n",
       "        [0.17133279, 0.05374136, 0.06006048, 0.88769736, 0.71830963],\n",
       "        [0.25546734, 0.93652523, 0.43554243, 0.26423482, 0.90483233],\n",
       "        [0.54243403, 0.99104962, 0.13193984, 0.38314896, 0.76625985],\n",
       "        [0.51312402, 0.12296206, 0.3093766 , 0.45405196, 0.15908344]]),\n",
       " array([0.1714142 , 0.35060353, 0.80398397, 0.15259947, 0.7515517 ]),\n",
       " array([[0.4244946 ],\n",
       "        [0.13466515],\n",
       "        [0.0412037 ],\n",
       "        [0.92715733],\n",
       "        [0.65588491]]),\n",
       " array([0.47273462]))"
      ]
     },
     "execution_count": 6,
     "metadata": {},
     "output_type": "execute_result"
    }
   ],
   "source": [
    "w1 = np.random.rand(5,5)\n",
    "b1 = np.random.rand(5)\n",
    "\n",
    "w2 = np.random.rand(5,1)\n",
    "b2 = np.random.rand(1)\n",
    "w1,b1, w2,b2"
   ]
  },
  {
   "cell_type": "code",
   "execution_count": 21,
   "id": "6380dc97-a320-47d5-9216-bfe6fb5b526d",
   "metadata": {},
   "outputs": [
    {
     "data": {
      "text/plain": [
       "(10, 1)"
      ]
     },
     "execution_count": 21,
     "metadata": {},
     "output_type": "execute_result"
    }
   ],
   "source": [
    "x = np.random.rand(10,5)\n",
    "y = x @ [[0.8], [0.3], [0.75], [0.5], [0.2]] + 0.43\n",
    "y.shape"
   ]
  },
  {
   "cell_type": "code",
   "execution_count": 22,
   "id": "a4949808-71ec-40cf-85d4-aed69f266c0d",
   "metadata": {},
   "outputs": [
    {
     "data": {
      "text/plain": [
       "(10, 5)"
      ]
     },
     "execution_count": 22,
     "metadata": {},
     "output_type": "execute_result"
    }
   ],
   "source": [
    "z1 = x @ w1 + b1\n",
    "z1.shape"
   ]
  },
  {
   "cell_type": "code",
   "execution_count": 23,
   "id": "283f286e-5a6f-4de5-8ae0-287e3e937ebd",
   "metadata": {},
   "outputs": [
    {
     "data": {
      "text/plain": [
       "(10, 1)"
      ]
     },
     "execution_count": 23,
     "metadata": {},
     "output_type": "execute_result"
    }
   ],
   "source": [
    "z2 = z1 @ w2 + b2\n",
    "z2.shape"
   ]
  },
  {
   "cell_type": "code",
   "execution_count": 24,
   "id": "ec347735-2bbb-4125-95d1-9f1e3261d6a4",
   "metadata": {},
   "outputs": [],
   "source": [
    "loss = np.sum((y-z2)**2) / (len(z2) *2)"
   ]
  },
  {
   "cell_type": "code",
   "execution_count": 25,
   "id": "c98bc8c0-1ac4-40e8-ba27-358fb29fc5c4",
   "metadata": {},
   "outputs": [
    {
     "data": {
      "text/plain": [
       "2.7322169922473796"
      ]
     },
     "execution_count": 25,
     "metadata": {},
     "output_type": "execute_result"
    }
   ],
   "source": [
    "loss"
   ]
  },
  {
   "cell_type": "code",
   "execution_count": 26,
   "id": "e4142d38-2b14-4368-8431-b25750088a79",
   "metadata": {},
   "outputs": [
    {
     "data": {
      "text/plain": [
       "array([[0.58443753],\n",
       "       [0.62800397],\n",
       "       [0.30943124],\n",
       "       [0.44039946],\n",
       "       [0.50182909],\n",
       "       [0.36612148],\n",
       "       [0.38083333],\n",
       "       [0.43264027],\n",
       "       [0.57537338],\n",
       "       [0.3331283 ]])"
      ]
     },
     "execution_count": 26,
     "metadata": {},
     "output_type": "execute_result"
    }
   ],
   "source": [
    "dldz2 = (z2 - y)*(2/len(z2)) \n",
    "dldz2"
   ]
  },
  {
   "cell_type": "code",
   "execution_count": 27,
   "id": "668ccbd2-9db6-4e0e-b718-bb39567925b4",
   "metadata": {},
   "outputs": [
    {
     "data": {
      "text/plain": [
       "array([[ 5.43607979],\n",
       "       [ 7.0438933 ],\n",
       "       [ 7.17990786],\n",
       "       [ 6.18345152],\n",
       "       [11.16008735]])"
      ]
     },
     "execution_count": 27,
     "metadata": {},
     "output_type": "execute_result"
    }
   ],
   "source": [
    "dlw2 = z1.transpose() @ dldz2\n",
    "dlw2"
   ]
  },
  {
   "cell_type": "code",
   "execution_count": 29,
   "id": "bb678ad2-a402-4264-ac69-7f96560b433e",
   "metadata": {},
   "outputs": [],
   "source": [
    "dldb2 = dldz2\n",
    "dldz1 = dldz2 @ w2.transpose()"
   ]
  },
  {
   "cell_type": "code",
   "execution_count": 30,
   "id": "fbf8369b-eb83-4d57-a1e4-15476002f844",
   "metadata": {},
   "outputs": [
    {
     "data": {
      "text/plain": [
       "(10, 5)"
      ]
     },
     "execution_count": 30,
     "metadata": {},
     "output_type": "execute_result"
    }
   ],
   "source": [
    "dldz1.shape"
   ]
  },
  {
   "cell_type": "code",
   "execution_count": 31,
   "id": "7b0fdfc7-8986-4b1a-a937-c8614e436235",
   "metadata": {},
   "outputs": [
    {
     "data": {
      "text/plain": [
       "(5, 5)"
      ]
     },
     "execution_count": 31,
     "metadata": {},
     "output_type": "execute_result"
    }
   ],
   "source": [
    "dldw1 = x.transpose() @ dldz1\n",
    "dldw1.shape"
   ]
  },
  {
   "cell_type": "code",
   "execution_count": 32,
   "id": "eaa92579-4cee-458b-b17d-33e9f76c99df",
   "metadata": {},
   "outputs": [],
   "source": [
    "dldb1 = dldz1\n",
    "dldx = dldz1 @ w1.transpose()"
   ]
  },
  {
   "cell_type": "code",
   "execution_count": null,
   "id": "3380ae6c-5a63-4fea-88d9-56e04dc55412",
   "metadata": {},
   "outputs": [],
   "source": []
  }
 ],
 "metadata": {
  "kernelspec": {
   "display_name": "Python 3 (ipykernel)",
   "language": "python",
   "name": "python3"
  },
  "language_info": {
   "codemirror_mode": {
    "name": "ipython",
    "version": 3
   },
   "file_extension": ".py",
   "mimetype": "text/x-python",
   "name": "python",
   "nbconvert_exporter": "python",
   "pygments_lexer": "ipython3",
   "version": "3.10.12"
  }
 },
 "nbformat": 4,
 "nbformat_minor": 5
}
