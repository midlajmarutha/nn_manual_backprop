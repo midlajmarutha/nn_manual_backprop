{
 "cells": [
  {
   "cell_type": "markdown",
   "id": "630c2c40-bdbf-4637-8738-1dec41e68111",
   "metadata": {},
   "source": [
    "# Implimentaion of manual backprop in neural nets"
   ]
  },
  {
   "cell_type": "markdown",
   "id": "9e17117b-84e6-41f1-841c-2ec60b766748",
   "metadata": {},
   "source": [
    "## 1. Derivatives"
   ]
  },
  {
   "cell_type": "markdown",
   "id": "bf45d73f-d309-4dba-a973-8e49fa7e8e2b",
   "metadata": {},
   "source": [
    "### 1.1  Scalar case"
   ]
  },
  {
   "cell_type": "markdown",
   "id": "7e1985dc-a67f-434a-9fc9-01d7ffc64c09",
   "metadata": {},
   "source": [
    "Given a function f : R → R, the derivative of f at a point x ∈ R is defined as: \\\n",
    "![scalar derivativ formula](resources/scalar-derivative-formula.png)"
   ]
  },
  {
   "cell_type": "code",
   "execution_count": 1,
   "id": "4eb4fe32-bb07-4e79-92bf-595a9b1ea416",
   "metadata": {},
   "outputs": [
    {
     "data": {
      "text/plain": [
       "12"
      ]
     },
     "execution_count": 1,
     "metadata": {},
     "output_type": "execute_result"
    }
   ],
   "source": [
    "f = lambda x: 3*x\n",
    "f(4)"
   ]
  },
  {
   "cell_type": "code",
   "execution_count": 2,
   "id": "1f059980-9cff-4138-9ae2-85da3bb4930d",
   "metadata": {},
   "outputs": [
    {
     "data": {
      "text/plain": [
       "3.0000000000001137"
      ]
     },
     "execution_count": 2,
     "metadata": {},
     "output_type": "execute_result"
    }
   ],
   "source": [
    "# derivative of the function 'f' by the given formula\n",
    "# taking h = 0.001\n",
    "\n",
    "(f(4+0.001) - f(4))/0.001"
   ]
  },
  {
   "cell_type": "markdown",
   "id": "0f1fbf73-84dd-4e3c-8748-47a02a2af725",
   "metadata": {},
   "source": [
    "### jacobian"
   ]
  },
  {
   "cell_type": "code",
   "execution_count": 3,
   "id": "cd103370-1a1c-42f9-9eae-6a6533c1afcb",
   "metadata": {},
   "outputs": [],
   "source": [
    "import numpy as np"
   ]
  },
  {
   "cell_type": "code",
   "execution_count": 4,
   "id": "31ecb452-c1cb-4c6c-89b8-6ded464e0287",
   "metadata": {},
   "outputs": [
    {
     "data": {
      "text/plain": [
       "array([0.94720717, 0.43867335, 0.52658615, 0.20750268, 0.9247352 ])"
      ]
     },
     "execution_count": 4,
     "metadata": {},
     "output_type": "execute_result"
    }
   ],
   "source": [
    "X = np.random.rand(5)\n",
    "X"
   ]
  },
  {
   "cell_type": "code",
   "execution_count": 5,
   "id": "663a37fe-707f-4425-abea-f01e4dfbcc23",
   "metadata": {},
   "outputs": [
    {
     "data": {
      "text/plain": [
       "array([0.89720142, 0.1924343 , 0.27729298, 0.04305736, 0.85513518])"
      ]
     },
     "execution_count": 5,
     "metadata": {},
     "output_type": "execute_result"
    }
   ],
   "source": [
    "f = lambda x: x*x\n",
    "f(X)"
   ]
  },
  {
   "cell_type": "code",
   "execution_count": 9,
   "id": "b2f36fed-ad63-4dce-9ee1-551a42173603",
   "metadata": {},
   "outputs": [
    {
     "data": {
      "text/plain": [
       "(array([[0.22938472, 0.17398476, 0.5672685 , 0.87379602, 0.51999036],\n",
       "        [0.10389021, 0.4333656 , 0.32006618, 0.26473278, 0.39615752],\n",
       "        [0.46735949, 0.97925006, 0.69537756, 0.04853546, 0.36401545],\n",
       "        [0.29489074, 0.39532867, 0.21930055, 0.95863886, 0.60014275],\n",
       "        [0.57245565, 0.62639105, 0.4660835 , 0.40248493, 0.81181349]]),\n",
       " array([0.37329218, 0.59757464, 0.0734772 , 0.06035677, 0.46293073]),\n",
       " array([[0.00559239],\n",
       "        [0.62531529],\n",
       "        [0.33991946],\n",
       "        [0.25545277],\n",
       "        [0.20465057]]),\n",
       " array([0.66548976]))"
      ]
     },
     "execution_count": 9,
     "metadata": {},
     "output_type": "execute_result"
    }
   ],
   "source": [
    "w1 = np.random.rand(5,5)\n",
    "b1 = np.random.rand(5)\n",
    "\n",
    "w2 = np.random.rand(5,1)\n",
    "b2 = np.random.rand(1)\n",
    "w1,b1, w2,b2"
   ]
  },
  {
   "cell_type": "code",
   "execution_count": 11,
   "id": "6380dc97-a320-47d5-9216-bfe6fb5b526d",
   "metadata": {},
   "outputs": [
    {
     "data": {
      "text/plain": [
       "array([[0.67098225, 0.96944772, 1.22125096, 0.98424427, 0.85933315],\n",
       "       [1.03401715, 0.52162864, 1.19903526, 0.56987209, 0.94908527],\n",
       "       [0.62413116, 0.98751987, 0.73727548, 1.0876131 , 0.83787004],\n",
       "       [1.16060623, 1.05880854, 0.68751156, 0.91006922, 0.67837513],\n",
       "       [0.93175443, 0.53926236, 0.44748156, 0.54880258, 1.07597917],\n",
       "       [0.48792756, 0.96292598, 0.68523015, 1.14515271, 0.93009154],\n",
       "       [0.87291199, 0.76681349, 0.63014806, 1.0644416 , 0.68613335],\n",
       "       [0.51482813, 0.93576781, 0.56694985, 0.59277692, 0.77945913],\n",
       "       [0.89853823, 0.65737894, 1.16744345, 1.15782158, 1.00230211],\n",
       "       [0.82039989, 0.7795845 , 0.55292775, 1.04849701, 0.44651805]])"
      ]
     },
     "execution_count": 11,
     "metadata": {},
     "output_type": "execute_result"
    }
   ],
   "source": [
    "x = np.random.rand(10,5)\n",
    "y = x*0.8 + 0.43\n",
    "y"
   ]
  },
  {
   "cell_type": "code",
   "execution_count": 20,
   "id": "a4949808-71ec-40cf-85d4-aed69f266c0d",
   "metadata": {},
   "outputs": [
    {
     "data": {
      "text/plain": [
       "(10, 5)"
      ]
     },
     "execution_count": 20,
     "metadata": {},
     "output_type": "execute_result"
    }
   ],
   "source": [
    "z1 = x @ w1 + b1\n",
    "z1.shape"
   ]
  },
  {
   "cell_type": "code",
   "execution_count": 27,
   "id": "283f286e-5a6f-4de5-8ae0-287e3e937ebd",
   "metadata": {},
   "outputs": [
    {
     "data": {
      "text/plain": [
       "(10, 1)"
      ]
     },
     "execution_count": 27,
     "metadata": {},
     "output_type": "execute_result"
    }
   ],
   "source": [
    "z2 = z1 @ w2 + b2\n",
    "z2.shape"
   ]
  },
  {
   "cell_type": "code",
   "execution_count": 37,
   "id": "ec347735-2bbb-4125-95d1-9f1e3261d6a4",
   "metadata": {},
   "outputs": [],
   "source": [
    "loss = np.sum((y-z2)**2) / (len(z2) *2)"
   ]
  },
  {
   "cell_type": "code",
   "execution_count": 38,
   "id": "c98bc8c0-1ac4-40e8-ba27-358fb29fc5c4",
   "metadata": {},
   "outputs": [
    {
     "data": {
      "text/plain": [
       "11.934135113098563"
      ]
     },
     "execution_count": 38,
     "metadata": {},
     "output_type": "execute_result"
    }
   ],
   "source": [
    "loss"
   ]
  },
  {
   "cell_type": "code",
   "execution_count": 39,
   "id": "e4142d38-2b14-4368-8431-b25750088a79",
   "metadata": {},
   "outputs": [
    {
     "data": {
      "text/plain": [
       "array([[1.74756975, 3.50948353, 4.64954031, 3.58524317, 2.91130107],\n",
       "       [3.37769341, 0.62976549, 3.98322086, 0.94447389, 3.01296743],\n",
       "       [1.17553528, 2.86949601, 1.77374944, 3.22010874, 2.25185828],\n",
       "       [3.61890294, 3.27469782, 1.58009725, 2.67860881, 1.52970902],\n",
       "       [1.88247027, 0.51713944, 0.08675149, 0.55945983, 2.19065376],\n",
       "       [0.36463276, 2.72172597, 1.48068619, 3.32658298, 2.59508652],\n",
       "       [2.12873633, 1.70814117, 1.08342916, 2.74548557, 1.35063607],\n",
       "       [0.36550972, 1.64702148, 0.57224803, 0.66965688, 1.27456451],\n",
       "       [3.37408864, 1.77451241, 4.81480227, 4.76948815, 3.97286366],\n",
       "       [1.55311379, 1.42641047, 0.57123842, 2.10785087, 0.08115264]])"
      ]
     },
     "execution_count": 39,
     "metadata": {},
     "output_type": "execute_result"
    }
   ],
   "source": [
    "dldz2 = 2*x *(z2 - y) \n",
    "dldz2"
   ]
  },
  {
   "cell_type": "code",
   "execution_count": 54,
   "id": "668ccbd2-9db6-4e0e-b718-bb39567925b4",
   "metadata": {},
   "outputs": [
    {
     "data": {
      "text/plain": [
       "array([[24.97903014, 24.69112283, 28.58545713, 31.55828789, 27.79938562],\n",
       "       [38.68571345, 39.4483052 , 45.41573158, 49.97649266, 43.41173061],\n",
       "       [25.44932341, 24.28225941, 29.08645009, 31.04622296, 27.38029787],\n",
       "       [29.36124507, 29.33098715, 30.94060007, 37.59091894, 30.48776112],\n",
       "       [37.44957634, 37.903672  , 41.49161631, 47.89689216, 41.04785609]])"
      ]
     },
     "execution_count": 54,
     "metadata": {},
     "output_type": "execute_result"
    }
   ],
   "source": [
    "dlw2 = z1.transpose() @ dldz2\n",
    "dlw2"
   ]
  },
  {
   "cell_type": "code",
   "execution_count": 55,
   "id": "bb678ad2-a402-4264-ac69-7f96560b433e",
   "metadata": {},
   "outputs": [],
   "source": [
    "dldb2 = dldz2\n",
    "dldz1 = dldz2 @ w2"
   ]
  },
  {
   "cell_type": "code",
   "execution_count": 60,
   "id": "fbf8369b-eb83-4d57-a1e4-15476002f844",
   "metadata": {},
   "outputs": [
    {
     "data": {
      "text/plain": [
       "(10, 1)"
      ]
     },
     "execution_count": 60,
     "metadata": {},
     "output_type": "execute_result"
    }
   ],
   "source": [
    "dldz1.shape"
   ]
  },
  {
   "cell_type": "code",
   "execution_count": 57,
   "id": "7b0fdfc7-8986-4b1a-a937-c8614e436235",
   "metadata": {},
   "outputs": [
    {
     "data": {
      "text/plain": [
       "(5, 1)"
      ]
     },
     "execution_count": 57,
     "metadata": {},
     "output_type": "execute_result"
    }
   ],
   "source": [
    "dldw1 = x.transpose() @ dldz1\n",
    "dldw1.shape"
   ]
  },
  {
   "cell_type": "code",
   "execution_count": 58,
   "id": "eaa92579-4cee-458b-b17d-33e9f76c99df",
   "metadata": {},
   "outputs": [
    {
     "ename": "ValueError",
     "evalue": "matmul: Input operand 1 has a mismatch in its core dimension 0, with gufunc signature (n?,k),(k,m?)->(n?,m?) (size 5 is different from 1)",
     "output_type": "error",
     "traceback": [
      "\u001b[0;31m---------------------------------------------------------------------------\u001b[0m",
      "\u001b[0;31mValueError\u001b[0m                                Traceback (most recent call last)",
      "Cell \u001b[0;32mIn[58], line 2\u001b[0m\n\u001b[1;32m      1\u001b[0m dldb1 \u001b[38;5;241m=\u001b[39m dldz1\n\u001b[0;32m----> 2\u001b[0m dldx \u001b[38;5;241m=\u001b[39m \u001b[43mdldz1\u001b[49m\u001b[43m \u001b[49m\u001b[38;5;241;43m@\u001b[39;49m\u001b[43m \u001b[49m\u001b[43mw1\u001b[49m\u001b[38;5;241;43m.\u001b[39;49m\u001b[43mtranspose\u001b[49m\u001b[43m(\u001b[49m\u001b[43m)\u001b[49m\n",
      "\u001b[0;31mValueError\u001b[0m: matmul: Input operand 1 has a mismatch in its core dimension 0, with gufunc signature (n?,k),(k,m?)->(n?,m?) (size 5 is different from 1)"
     ]
    }
   ],
   "source": [
    "dldb1 = dldz1\n",
    "dldx = dldz1 @ w1.transpose()"
   ]
  },
  {
   "cell_type": "code",
   "execution_count": null,
   "id": "60962a3a-f2e6-4a7a-a28a-bebc573c7ce8",
   "metadata": {},
   "outputs": [],
   "source": []
  }
 ],
 "metadata": {
  "kernelspec": {
   "display_name": "Python 3 (ipykernel)",
   "language": "python",
   "name": "python3"
  },
  "language_info": {
   "codemirror_mode": {
    "name": "ipython",
    "version": 3
   },
   "file_extension": ".py",
   "mimetype": "text/x-python",
   "name": "python",
   "nbconvert_exporter": "python",
   "pygments_lexer": "ipython3",
   "version": "3.10.12"
  }
 },
 "nbformat": 4,
 "nbformat_minor": 5
}
