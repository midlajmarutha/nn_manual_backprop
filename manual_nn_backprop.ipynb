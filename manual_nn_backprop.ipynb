{
 "cells": [
  {
   "cell_type": "markdown",
   "id": "630c2c40-bdbf-4637-8738-1dec41e68111",
   "metadata": {},
   "source": [
    "# Implimentaion of manual backprop in neural nets"
   ]
  },
  {
   "cell_type": "markdown",
   "id": "9e17117b-84e6-41f1-841c-2ec60b766748",
   "metadata": {},
   "source": [
    "## 1. Derivatives"
   ]
  },
  {
   "cell_type": "markdown",
   "id": "bf45d73f-d309-4dba-a973-8e49fa7e8e2b",
   "metadata": {},
   "source": [
    "### 1.1  Scalar case"
   ]
  },
  {
   "cell_type": "markdown",
   "id": "7e1985dc-a67f-434a-9fc9-01d7ffc64c09",
   "metadata": {},
   "source": [
    "Given a function f : R → R, the derivative of f at a point x ∈ R is defined as: \\\n",
    "![scalar derivativ formula](resources/scalar-derivative-formula.png)"
   ]
  },
  {
   "cell_type": "code",
   "execution_count": 5,
   "id": "4eb4fe32-bb07-4e79-92bf-595a9b1ea416",
   "metadata": {},
   "outputs": [
    {
     "data": {
      "text/plain": [
       "12"
      ]
     },
     "execution_count": 5,
     "metadata": {},
     "output_type": "execute_result"
    }
   ],
   "source": [
    "f = lambda x: 3*x\n",
    "f(4)"
   ]
  },
  {
   "cell_type": "code",
   "execution_count": 6,
   "id": "1f059980-9cff-4138-9ae2-85da3bb4930d",
   "metadata": {},
   "outputs": [
    {
     "data": {
      "text/plain": [
       "3.0000000000001137"
      ]
     },
     "execution_count": 6,
     "metadata": {},
     "output_type": "execute_result"
    }
   ],
   "source": [
    "# derivative of the function 'f' by the given formula\n",
    "# taking h = 0.001\n",
    "\n",
    "(f(4+0.001) - f(4))/0.001"
   ]
  },
  {
   "cell_type": "markdown",
   "id": "0f1fbf73-84dd-4e3c-8748-47a02a2af725",
   "metadata": {},
   "source": [
    "### jacobian"
   ]
  },
  {
   "cell_type": "code",
   "execution_count": 9,
   "id": "cd103370-1a1c-42f9-9eae-6a6533c1afcb",
   "metadata": {},
   "outputs": [],
   "source": [
    "import numpy as np"
   ]
  },
  {
   "cell_type": "code",
   "execution_count": 11,
   "id": "31ecb452-c1cb-4c6c-89b8-6ded464e0287",
   "metadata": {},
   "outputs": [
    {
     "data": {
      "text/plain": [
       "array([0.92951427, 0.8493602 , 0.25754238, 0.56041325, 0.70858023])"
      ]
     },
     "execution_count": 11,
     "metadata": {},
     "output_type": "execute_result"
    }
   ],
   "source": [
    "X = np.random.rand(5)\n",
    "X"
   ]
  },
  {
   "cell_type": "code",
   "execution_count": 15,
   "id": "663a37fe-707f-4425-abea-f01e4dfbcc23",
   "metadata": {},
   "outputs": [
    {
     "data": {
      "text/plain": [
       "array([0.86399678, 0.72141274, 0.06632808, 0.31406301, 0.50208595])"
      ]
     },
     "execution_count": 15,
     "metadata": {},
     "output_type": "execute_result"
    }
   ],
   "source": [
    "f = lambda x: x*x\n",
    "f(X)"
   ]
  },
  {
   "cell_type": "code",
   "execution_count": 17,
   "id": "b2f36fed-ad63-4dce-9ee1-551a42173603",
   "metadata": {},
   "outputs": [
    {
     "data": {
      "text/plain": [
       "(5,)"
      ]
     },
     "execution_count": 17,
     "metadata": {},
     "output_type": "execute_result"
    }
   ],
   "source": [
    "h = np.array([0.001,0.001,0.001,0.001,0.001])\n",
    "(f(X+h) - f(X))/"
   ]
  },
  {
   "cell_type": "code",
   "execution_count": null,
   "id": "6380dc97-a320-47d5-9216-bfe6fb5b526d",
   "metadata": {},
   "outputs": [],
   "source": []
  }
 ],
 "metadata": {
  "kernelspec": {
   "display_name": "Python 3 (ipykernel)",
   "language": "python",
   "name": "python3"
  },
  "language_info": {
   "codemirror_mode": {
    "name": "ipython",
    "version": 3
   },
   "file_extension": ".py",
   "mimetype": "text/x-python",
   "name": "python",
   "nbconvert_exporter": "python",
   "pygments_lexer": "ipython3",
   "version": "3.10.12"
  }
 },
 "nbformat": 4,
 "nbformat_minor": 5
}
