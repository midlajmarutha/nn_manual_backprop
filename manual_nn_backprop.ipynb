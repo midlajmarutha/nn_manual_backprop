{
 "cells": [
  {
   "cell_type": "markdown",
   "id": "630c2c40-bdbf-4637-8738-1dec41e68111",
   "metadata": {},
   "source": [
    "# Implimentaion of manual backprop in neural nets"
   ]
  },
  {
   "cell_type": "markdown",
   "id": "9e17117b-84e6-41f1-841c-2ec60b766748",
   "metadata": {},
   "source": [
    "## 1. Derivatives"
   ]
  },
  {
   "cell_type": "markdown",
   "id": "bf45d73f-d309-4dba-a973-8e49fa7e8e2b",
   "metadata": {},
   "source": [
    "### 1.1  Scalar case"
   ]
  },
  {
   "cell_type": "markdown",
   "id": "7e1985dc-a67f-434a-9fc9-01d7ffc64c09",
   "metadata": {},
   "source": [
    "Given a function f : R → R, the derivative of f at a point x ∈ R is defined as: \\\n",
    "![scalar derivativ formula](resources/scalar-derivative-formula.png)"
   ]
  },
  {
   "cell_type": "code",
   "execution_count": 1,
   "id": "4eb4fe32-bb07-4e79-92bf-595a9b1ea416",
   "metadata": {},
   "outputs": [
    {
     "data": {
      "text/plain": [
       "12"
      ]
     },
     "execution_count": 1,
     "metadata": {},
     "output_type": "execute_result"
    }
   ],
   "source": [
    "f = lambda x: 3*x\n",
    "f(4)"
   ]
  },
  {
   "cell_type": "code",
   "execution_count": 2,
   "id": "1f059980-9cff-4138-9ae2-85da3bb4930d",
   "metadata": {},
   "outputs": [
    {
     "data": {
      "text/plain": [
       "3.0000000000001137"
      ]
     },
     "execution_count": 2,
     "metadata": {},
     "output_type": "execute_result"
    }
   ],
   "source": [
    "# derivative of the function 'f' by the given formula\n",
    "# taking h = 0.001\n",
    "\n",
    "(f(4+0.001) - f(4))/0.001"
   ]
  },
  {
   "cell_type": "markdown",
   "id": "0f1fbf73-84dd-4e3c-8748-47a02a2af725",
   "metadata": {},
   "source": [
    "### jacobian"
   ]
  },
  {
   "cell_type": "code",
   "execution_count": 3,
   "id": "cd103370-1a1c-42f9-9eae-6a6533c1afcb",
   "metadata": {},
   "outputs": [],
   "source": [
    "import numpy as np"
   ]
  },
  {
   "cell_type": "code",
   "execution_count": 4,
   "id": "31ecb452-c1cb-4c6c-89b8-6ded464e0287",
   "metadata": {},
   "outputs": [
    {
     "data": {
      "text/plain": [
       "array([0.32150969, 0.87640208, 0.15695178, 0.26655405, 0.9600369 ])"
      ]
     },
     "execution_count": 4,
     "metadata": {},
     "output_type": "execute_result"
    }
   ],
   "source": [
    "X = np.random.rand(5)\n",
    "X"
   ]
  },
  {
   "cell_type": "code",
   "execution_count": 5,
   "id": "663a37fe-707f-4425-abea-f01e4dfbcc23",
   "metadata": {},
   "outputs": [
    {
     "data": {
      "text/plain": [
       "array([0.10336848, 0.76808061, 0.02463386, 0.07105106, 0.92167085])"
      ]
     },
     "execution_count": 5,
     "metadata": {},
     "output_type": "execute_result"
    }
   ],
   "source": [
    "f = lambda x: x*x\n",
    "f(X)"
   ]
  },
  {
   "cell_type": "markdown",
   "id": "7dbddaf2-45a5-46d2-9238-5d67077b0470",
   "metadata": {},
   "source": [
    "## Building a sample dataset\n",
    "Because we are focused on implementing backprop, we are just creating a sample data set instead of a real dataset."
   ]
  },
  {
   "cell_type": "code",
   "execution_count": 7,
   "id": "6380dc97-a320-47d5-9216-bfe6fb5b526d",
   "metadata": {},
   "outputs": [
    {
     "data": {
      "text/plain": [
       "(10, 1)"
      ]
     },
     "execution_count": 7,
     "metadata": {},
     "output_type": "execute_result"
    }
   ],
   "source": [
    "x = np.random.rand(10,5)\n",
    "y = x @ [[0.8], [0.3], [0.75], [0.5], [0.2]] + 0.43\n",
    "y.shape"
   ]
  },
  {
   "cell_type": "markdown",
   "id": "20f46ccd-05e0-475a-a5c0-d0e5a545fd81",
   "metadata": {},
   "source": [
    "## Initializing parameters of our model\n",
    "When initializing model parameters, its important that were doing it randomly"
   ]
  },
  {
   "cell_type": "code",
   "execution_count": 6,
   "id": "b2f36fed-ad63-4dce-9ee1-551a42173603",
   "metadata": {},
   "outputs": [
    {
     "data": {
      "text/plain": [
       "(array([[0.27593355, 0.95201515, 0.72612994, 0.15686858, 0.85350509],\n",
       "        [0.91957641, 0.51753238, 0.73489154, 0.6862969 , 0.79144822],\n",
       "        [0.88665725, 0.5395053 , 0.86953145, 0.06929613, 0.61247942],\n",
       "        [0.17410728, 0.40034224, 0.385399  , 0.61107948, 0.49672354],\n",
       "        [0.06588156, 0.09678029, 0.88800686, 0.43524464, 0.20779338]]),\n",
       " array([0.68163852, 0.5895935 , 0.4460282 , 0.20865587, 0.83078669]),\n",
       " array([[0.88479021],\n",
       "        [0.38111535],\n",
       "        [0.40518791],\n",
       "        [0.86754415],\n",
       "        [0.53291447]]),\n",
       " array([0.11526387]))"
      ]
     },
     "execution_count": 6,
     "metadata": {},
     "output_type": "execute_result"
    }
   ],
   "source": [
    "w1 = np.random.rand(5,5)\n",
    "b1 = np.random.rand(5)\n",
    "\n",
    "w2 = np.random.rand(5,1)\n",
    "b2 = np.random.rand(1)\n",
    "w1,b1, w2,b2"
   ]
  },
  {
   "cell_type": "code",
   "execution_count": 8,
   "id": "a4949808-71ec-40cf-85d4-aed69f266c0d",
   "metadata": {},
   "outputs": [
    {
     "data": {
      "text/plain": [
       "(10, 5)"
      ]
     },
     "execution_count": 8,
     "metadata": {},
     "output_type": "execute_result"
    }
   ],
   "source": [
    "z1 = x @ w1 + b1\n",
    "z1.shape"
   ]
  },
  {
   "cell_type": "code",
   "execution_count": 9,
   "id": "283f286e-5a6f-4de5-8ae0-287e3e937ebd",
   "metadata": {},
   "outputs": [
    {
     "data": {
      "text/plain": [
       "(10, 1)"
      ]
     },
     "execution_count": 9,
     "metadata": {},
     "output_type": "execute_result"
    }
   ],
   "source": [
    "z2 = z1 @ w2 + b2\n",
    "z2.shape"
   ]
  },
  {
   "cell_type": "code",
   "execution_count": 10,
   "id": "ec347735-2bbb-4125-95d1-9f1e3261d6a4",
   "metadata": {},
   "outputs": [],
   "source": [
    "loss = np.sum((y-z2)**2) / (len(z2) *2)"
   ]
  },
  {
   "cell_type": "code",
   "execution_count": 11,
   "id": "c98bc8c0-1ac4-40e8-ba27-358fb29fc5c4",
   "metadata": {},
   "outputs": [
    {
     "data": {
      "text/plain": [
       "8.749912940692557"
      ]
     },
     "execution_count": 11,
     "metadata": {},
     "output_type": "execute_result"
    }
   ],
   "source": [
    "loss"
   ]
  },
  {
   "cell_type": "code",
   "execution_count": 12,
   "id": "e4142d38-2b14-4368-8431-b25750088a79",
   "metadata": {},
   "outputs": [
    {
     "data": {
      "text/plain": [
       "array([[0.73549705],\n",
       "       [0.79404644],\n",
       "       [0.73413312],\n",
       "       [0.82781968],\n",
       "       [0.74989001],\n",
       "       [0.80534645],\n",
       "       [1.01739876],\n",
       "       [0.85827613],\n",
       "       [1.02154031],\n",
       "       [0.76028097]])"
      ]
     },
     "execution_count": 12,
     "metadata": {},
     "output_type": "execute_result"
    }
   ],
   "source": [
    "dldz2 = (z2 - y)*(2/len(z2)) \n",
    "dldz2"
   ]
  },
  {
   "cell_type": "code",
   "execution_count": 32,
   "id": "668ccbd2-9db6-4e0e-b718-bb39567925b4",
   "metadata": {},
   "outputs": [
    {
     "data": {
      "text/plain": [
       "array([[16.34830403],\n",
       "       [15.72584442],\n",
       "       [20.29328326],\n",
       "       [10.48304998],\n",
       "       [19.94432344]])"
      ]
     },
     "execution_count": 32,
     "metadata": {},
     "output_type": "execute_result"
    }
   ],
   "source": [
    "dldw2 = z1.transpose() @ dldz2\n",
    "dldw2"
   ]
  },
  {
   "cell_type": "code",
   "execution_count": 28,
   "id": "bb678ad2-a402-4264-ac69-7f96560b433e",
   "metadata": {},
   "outputs": [
    {
     "data": {
      "text/plain": [
       "array([[8.30422892]])"
      ]
     },
     "execution_count": 28,
     "metadata": {},
     "output_type": "execute_result"
    }
   ],
   "source": [
    "dldb2 = np.sum(dldz2, keepdims=True)\n",
    "dldz1 = dldz2 @ w2.transpose()\n",
    "dldb2"
   ]
  },
  {
   "cell_type": "code",
   "execution_count": 15,
   "id": "fbf8369b-eb83-4d57-a1e4-15476002f844",
   "metadata": {},
   "outputs": [
    {
     "data": {
      "text/plain": [
       "(10, 5)"
      ]
     },
     "execution_count": 15,
     "metadata": {},
     "output_type": "execute_result"
    }
   ],
   "source": [
    "dldz1.shape"
   ]
  },
  {
   "cell_type": "code",
   "execution_count": 29,
   "id": "7b0fdfc7-8986-4b1a-a937-c8614e436235",
   "metadata": {},
   "outputs": [
    {
     "data": {
      "text/plain": [
       "array([[3.78051605, 1.62842299, 1.7312798 , 3.7068274 , 2.27702759],\n",
       "       [4.65059966, 2.00320361, 2.12973285, 4.55995161, 2.80108419],\n",
       "       [3.78718605, 1.63129603, 1.73433431, 3.71336738, 2.28104496],\n",
       "       [2.68945525, 1.15845844, 1.23163067, 2.63703321, 1.61987509],\n",
       "       [4.71357049, 2.03032772, 2.15857021, 4.62169502, 2.83901189]])"
      ]
     },
     "execution_count": 29,
     "metadata": {},
     "output_type": "execute_result"
    }
   ],
   "source": [
    "dldw1 = x.transpose() @ dldz1\n",
    "dldw1"
   ]
  },
  {
   "cell_type": "code",
   "execution_count": 30,
   "id": "eaa92579-4cee-458b-b17d-33e9f76c99df",
   "metadata": {},
   "outputs": [],
   "source": [
    "dldb1 = np.sum(dldz1, axis=0, keepdims=True)\n",
    "dldx = dldz1 @ w1.transpose()"
   ]
  },
  {
   "cell_type": "markdown",
   "id": "81afb48c-c449-487d-a179-298646488f07",
   "metadata": {},
   "source": [
    "So we calculated gradients of Loss with respect all the parameters(w2. b2, w1, b1) in our model.\n",
    "We can now use these gradients to update the paramertes in our model in a way that the loss of our model minimizes.\n",
    "We can gradient descent optimizer for that..."
   ]
  },
  {
   "cell_type": "code",
   "execution_count": 34,
   "id": "2ee641dc-8deb-49de-a380-36e9dcd0cfcb",
   "metadata": {},
   "outputs": [],
   "source": [
    "lr = 0.1\n",
    "w2 = w2 - lr*dldw2\n",
    "b2 = b2 - lr*dldb2\n",
    "w1 = w1 - lr*dldw1\n",
    "b2 = b1 - lr*dldb1"
   ]
  },
  {
   "cell_type": "code",
   "execution_count": null,
   "id": "e035dac3-ac11-4e8e-98ef-131ea5f84be1",
   "metadata": {},
   "outputs": [],
   "source": []
  }
 ],
 "metadata": {
  "kernelspec": {
   "display_name": "Python 3 (ipykernel)",
   "language": "python",
   "name": "python3"
  },
  "language_info": {
   "codemirror_mode": {
    "name": "ipython",
    "version": 3
   },
   "file_extension": ".py",
   "mimetype": "text/x-python",
   "name": "python",
   "nbconvert_exporter": "python",
   "pygments_lexer": "ipython3",
   "version": "3.10.12"
  }
 },
 "nbformat": 4,
 "nbformat_minor": 5
}
